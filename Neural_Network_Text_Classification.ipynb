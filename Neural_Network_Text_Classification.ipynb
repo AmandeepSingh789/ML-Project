{
  "nbformat": 4,
  "nbformat_minor": 0,
  "metadata": {
    "colab": {
      "name": "Neural Network Text Classification.ipynb",
      "provenance": [],
      "authorship_tag": "ABX9TyNy/UgmM+gE/HAVIMkw1oFJ",
      "include_colab_link": true
    },
    "kernelspec": {
      "name": "python3",
      "display_name": "Python 3"
    },
    "language_info": {
      "name": "python"
    }
  },
  "cells": [
    {
      "cell_type": "markdown",
      "metadata": {
        "id": "view-in-github",
        "colab_type": "text"
      },
      "source": [
        "<a href=\"https://colab.research.google.com/github/AmandeepSingh789/ML-Project/blob/main/Neural_Network_Text_Classification.ipynb\" target=\"_parent\"><img src=\"https://colab.research.google.com/assets/colab-badge.svg\" alt=\"Open In Colab\"/></a>"
      ]
    },
    {
      "cell_type": "code",
      "execution_count": null,
      "metadata": {
        "id": "b85TCfxtCraZ"
      },
      "outputs": [],
      "source": [
        ""
      ]
    }
  ]
}